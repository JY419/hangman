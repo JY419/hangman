{
 "cells": [
  {
   "cell_type": "code",
   "execution_count": 6,
   "metadata": {},
   "outputs": [
    {
     "name": "stdout",
     "output_type": "stream",
     "text": [
      "16\n"
     ]
    }
   ],
   "source": [
    "# 1. Write a function that takes a number as an input and returns that number squared.\n",
    "\n",
    "def num_squared(num):\n",
    "    return num**2\n",
    "\n",
    "y = num_squared(4)\n",
    "print(y)"
   ]
  },
  {
   "cell_type": "code",
   "execution_count": 8,
   "metadata": {},
   "outputs": [
    {
     "name": "stdout",
     "output_type": "stream",
     "text": [
      "So\n"
     ]
    }
   ],
   "source": [
    "# 2. Create a function that accepts a string as a parameter and prints it.\n",
    "\n",
    "def print_string(s):\n",
    "    print(s)\n",
    "\n",
    "print_string(\"So\")"
   ]
  },
  {
   "cell_type": "code",
   "execution_count": 11,
   "metadata": {},
   "outputs": [
    {
     "name": "stdout",
     "output_type": "stream",
     "text": [
      "2\n",
      "4\n",
      "1\n",
      "3\n",
      "4\n"
     ]
    }
   ],
   "source": [
    "# 3. Write a function that takes three required parameters and two optional parameters.\n",
    "\n",
    "def ran_func(x, y, z, a=3, b=4):\n",
    "    print(x)\n",
    "    print(y)\n",
    "    print(z)\n",
    "    print(a)\n",
    "    print(b)\n",
    "\n",
    "ran_func(2, 4, 1)"
   ]
  },
  {
   "cell_type": "code",
   "execution_count": 13,
   "metadata": {},
   "outputs": [
    {
     "name": "stdout",
     "output_type": "stream",
     "text": [
      "12.0\n"
     ]
    }
   ],
   "source": [
    "# 4. Write a program with two functions. The first function should take an integer as a parameter and return the result of the integer divided by 2. \n",
    "# The second function should take an integer as a parameter and return the result of the integer multiplied by 4. Call the first function, \n",
    "# save the result as a variable, and pass it as a parameter to the second function.\n",
    "\n",
    "def first_func(a):\n",
    "    y = a / 2\n",
    "    return y\n",
    "\n",
    "def second_func(b):\n",
    "    return b*4\n",
    "\n",
    "t = first_func(6)\n",
    "q = second_func(t)\n",
    "print(q)"
   ]
  },
  {
   "cell_type": "code",
   "execution_count": 7,
   "metadata": {},
   "outputs": [
    {
     "name": "stdout",
     "output_type": "stream",
     "text": [
      "6.0\n"
     ]
    }
   ],
   "source": [
    "# 5. Write a function that converts a string to a float and returns the result. Use exception handling to catch the exception that could occur.\n",
    "\n",
    "def str_to_float(s):\n",
    "    try:\n",
    "        num = float(s)\n",
    "        return num\n",
    "    except ValueError:\n",
    "        print(\"THe input is not valid\")\n",
    "\n",
    "output = str_to_float(6)\n",
    "print(output)"
   ]
  },
  {
   "cell_type": "code",
   "execution_count": null,
   "metadata": {},
   "outputs": [],
   "source": [
    "# 6. Add a docstring to all of the functions you wrote in challenges 1-5."
   ]
  },
  {
   "cell_type": "code",
   "execution_count": null,
   "metadata": {},
   "outputs": [],
   "source": [
    "def num_squared(num):\n",
    "    \"\"\"\n",
    "    Returns num * 2.\n",
    "    :param num: float or int.\n",
    "    :return: The squared value of num.\n",
    "    \"\"\"\n",
    "    return num**2\n",
    "\n",
    "y = num_squared(4)\n",
    "print(y)"
   ]
  },
  {
   "cell_type": "code",
   "execution_count": null,
   "metadata": {},
   "outputs": [],
   "source": [
    "def print_string(s):\n",
    "    \"\"\"\n",
    "    Prints the strings that it's inputted.\n",
    "    :param s: strings.\n",
    "    \"\"\"\n",
    "    print(s)\n",
    "\n",
    "print_string(\"So\")"
   ]
  },
  {
   "cell_type": "code",
   "execution_count": null,
   "metadata": {},
   "outputs": [],
   "source": [
    "def ran_func(x, y, z, a=3, b=4):\n",
    "    \"\"\"\n",
    "    Prints all the numbers that it's inputted.\n",
    "    :param x, y, z: required numbers.\n",
    "    :param a and b: optional numbers. By default a is 3 and b is 4.\n",
    "    \"\"\"\n",
    "    print(x)\n",
    "    print(y)\n",
    "    print(z)\n",
    "    print(a)\n",
    "    print(b)\n",
    "\n",
    "ran_func(2, 4, 1)"
   ]
  },
  {
   "cell_type": "code",
   "execution_count": null,
   "metadata": {},
   "outputs": [],
   "source": [
    "def first_func(a):\n",
    "    \"\"\"\n",
    "    Returns a / 2.\n",
    "    :param a: a number.\n",
    "    :return: division of a by 2.\n",
    "    \"\"\"\n",
    "    y = a / 2\n",
    "    return y\n",
    "\n",
    "def second_func(b):\n",
    "    \"\"\"\n",
    "    Returns b*4.\n",
    "    :param b: a number.\n",
    "    :return: multiplication of b by 4.\n",
    "    \"\"\"\n",
    "    return b*4\n",
    "\n",
    "t = first_func(6)\n",
    "q = second_func(t)\n",
    "print(q)"
   ]
  },
  {
   "cell_type": "code",
   "execution_count": null,
   "metadata": {},
   "outputs": [],
   "source": [
    "def str_to_float(s):\n",
    "    \"\"\"\n",
    "    Converts a string s into a float and returns it.\n",
    "    If a value that is not a string is inputted, then it raises an error saying that the input is invalid.\n",
    "    :param s: strings.\n",
    "    :return: s as a float value.\n",
    "    \"\"\"\n",
    "    try:\n",
    "        num = float(s)\n",
    "        return num\n",
    "    except ValueError:\n",
    "        print(\"THe input is not valid\")\n",
    "\n",
    "output = str_to_float(6)\n",
    "print(output)"
   ]
  },
  {
   "cell_type": "code",
   "execution_count": 8,
   "metadata": {},
   "outputs": [],
   "source": [
    "# Answers"
   ]
  },
  {
   "cell_type": "code",
   "execution_count": null,
   "metadata": {},
   "outputs": [],
   "source": [
    "# Answer for 1\n",
    "\n",
    "def squared(x):\n",
    "    return x ** 2\n",
    "\n",
    "print(squared(2))"
   ]
  },
  {
   "cell_type": "code",
   "execution_count": null,
   "metadata": {},
   "outputs": [],
   "source": [
    "# Answer for 2\n",
    "def print_string(string):\n",
    "    print(string)\n",
    "\n",
    "print_string(\"Testing: 1, 2, 3.\")"
   ]
  },
  {
   "cell_type": "code",
   "execution_count": null,
   "metadata": {},
   "outputs": [],
   "source": [
    "# Answer for 3\n",
    "def add_mult(a,b,c,x=100,z=1000):\n",
    "    return a + b + c * x * z\n",
    "\n",
    "result = add_mult(10, 15, 25)\n",
    "print(result)"
   ]
  },
  {
   "cell_type": "code",
   "execution_count": null,
   "metadata": {},
   "outputs": [],
   "source": [
    "# Answer for 4\n",
    "def divide(x):\n",
    "    return x / 2\n",
    "\n",
    "\n",
    "def multiply(x):\n",
    "    return x * 4\n",
    "\n",
    "y = divide(4)\n",
    "z = multiply(y)\n",
    "\n",
    "print(z)"
   ]
  },
  {
   "cell_type": "code",
   "execution_count": null,
   "metadata": {},
   "outputs": [],
   "source": [
    "# Answer for 5\n",
    "def convert(string):\n",
    "    try:\n",
    "        return float(string)\n",
    "    except ValueError:\n",
    "        print(\"Could not convert the string to a float.\")\n",
    "\n",
    "c = convert(\"55.0\")\n",
    "print(c)"
   ]
  },
  {
   "cell_type": "code",
   "execution_count": null,
   "metadata": {},
   "outputs": [],
   "source": [
    "# Answer for 6\n",
    "def squared(x):\n",
    "    \"\"\" Takes an int and returns it multiplied by 2.\n",
    "    :param x: int.\n",
    "    :return: x multiplied by 2.\n",
    "    \"\"\"\n",
    "    return x ** 2\n",
    "\n",
    "\n",
    "def print_string(string):\n",
    "    \"\"\" Prints the string passed in.\n",
    "    :param string: str.\n",
    "    \"\"\"\n",
    "    print(string)\n",
    "\n",
    "print_string(\"Testing: 1, 2, 3.\")\n",
    "\n",
    "\n",
    "def add_mult(a,b,c,x=100,z=1000):\n",
    "    \"\"\" Returns the result of two optional params\n",
    "    multiplied by the addition of 3 required params.\n",
    "    :param a: int.\n",
    "    :param b: int.\n",
    "    :param c: int.\n",
    "    :param x: int.\n",
    "    :param z: int.\n",
    "    :return: int.\n",
    "    \"\"\"\n",
    "    return a + b + c * x * z\n",
    "\n",
    "\n",
    "def convert(string):\n",
    "    \"\"\" Converts passed in str to int.\n",
    "    :param string: str.\n",
    "    :return: string converted to int.\n",
    "    \"\"\"\n",
    "    try:\n",
    "        return float(string)\n",
    "    except ValueError:\n",
    "        print(\"Could not convert the string to a float.\")"
   ]
  }
 ],
 "metadata": {
  "kernelspec": {
   "display_name": "Python 3",
   "language": "python",
   "name": "python3"
  },
  "language_info": {
   "codemirror_mode": {
    "name": "ipython",
    "version": 3
   },
   "file_extension": ".py",
   "mimetype": "text/x-python",
   "name": "python",
   "nbconvert_exporter": "python",
   "pygments_lexer": "ipython3",
   "version": "3.9.6"
  }
 },
 "nbformat": 4,
 "nbformat_minor": 2
}
